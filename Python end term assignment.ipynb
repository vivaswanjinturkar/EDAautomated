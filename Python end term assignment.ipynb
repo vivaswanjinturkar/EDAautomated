{
 "cells": [
  {
   "cell_type": "markdown",
   "metadata": {},
   "source": [
    "# PYTHON END TERM ASSIGNMENT\n",
    "\n",
    "\n",
    "## Team Members:\n",
    "#### Shweta Kumari (D20035)\n",
    "#### Vivaswan Jintukar (D20039)"
   ]
  },
  {
   "cell_type": "markdown",
   "metadata": {},
   "source": [
    "### 1. Importing Libararies that we would be using for this Assignment."
   ]
  },
  {
   "cell_type": "code",
   "execution_count": 1,
   "metadata": {},
   "outputs": [],
   "source": [
    "import pandas as pd\n",
    "import numpy as np \n",
    "import seaborn as sns\n",
    "import matplotlib.pyplot as plt\n",
    "%matplotlib inline          \n",
    "import os"
   ]
  },
  {
   "cell_type": "markdown",
   "metadata": {},
   "source": [
    "### 2. Getting the current working directory"
   ]
  },
  {
   "cell_type": "code",
   "execution_count": 2,
   "metadata": {},
   "outputs": [
    {
     "data": {
      "text/plain": [
       "'C:\\\\Users\\\\vivji\\\\Desktop'"
      ]
     },
     "execution_count": 2,
     "metadata": {},
     "output_type": "execute_result"
    }
   ],
   "source": [
    "import os\n",
    "os.getcwd()"
   ]
  },
  {
   "cell_type": "markdown",
   "metadata": {},
   "source": [
    "### Q1. You will create a function named ‘Histogram’ which will take the entire dataset as input and return the histograms for all the numerical variables in your dataset as .png files in your working directory. Make sure that all the generated graphs have proper titles and axis labels."
   ]
  },
  {
   "cell_type": "markdown",
   "metadata": {},
   "source": [
    "###  Lets Load The Data"
   ]
  },
  {
   "cell_type": "code",
   "execution_count": null,
   "metadata": {},
   "outputs": [],
   "source": [
    "data=pd.read_csv('cars.csv')"
   ]
  },
  {
   "cell_type": "markdown",
   "metadata": {},
   "source": [
    "### How Data looks like"
   ]
  },
  {
   "cell_type": "code",
   "execution_count": null,
   "metadata": {},
   "outputs": [],
   "source": [
    "data.shape                                   #Gives the shape of data. i.e No. of Rows and Columns in the dataset"
   ]
  },
  {
   "cell_type": "code",
   "execution_count": null,
   "metadata": {},
   "outputs": [],
   "source": [
    "data.head(10)                               #Top 10 records of the dataset"
   ]
  },
  {
   "cell_type": "markdown",
   "metadata": {},
   "source": [
    "###  Checking for NULL values"
   ]
  },
  {
   "cell_type": "code",
   "execution_count": null,
   "metadata": {},
   "outputs": [],
   "source": [
    "data.isnull().sum()          #Gives column-wise total count of null values in the dataset"
   ]
  },
  {
   "cell_type": "code",
   "execution_count": null,
   "metadata": {},
   "outputs": [],
   "source": [
    "data.describe().columns  #data.describe()gives summary about the numeric columns, data.describe()columns would give the numeric columns, which we have used in the codes to give the histograms for the numeric variables."
   ]
  },
  {
   "cell_type": "code",
   "execution_count": null,
   "metadata": {},
   "outputs": [],
   "source": [
    "def cat_num(data):                          #Defining the function for Categorical and Numerical variable\n",
    "    num=[]                                  \n",
    "    categ=[]\n",
    "    for i in data.columns:\n",
    "        if (data[i].dtype=='object') or (data[i].nunique() <=5):\n",
    "             categ.append(i)\n",
    "        else:\n",
    "            num.append(i)\n",
    "    return (categ,num)"
   ]
  },
  {
   "cell_type": "code",
   "execution_count": null,
   "metadata": {},
   "outputs": [],
   "source": [
    "def histogram(data):                               #defining function which makes histogram for 'data'\n",
    "    cat,num=cat_num(data)                           \n",
    "    for i in num:                                   # i is the individual numeric attributes of 'data'\n",
    "        plt.figure(figsize=(5,5))                  #specifying the size for the plots\n",
    "        sns.distplot(data[i],kde=False,hist_kws=dict(edgecolor=\"black\", linewidth=2))        #plotting the histogram\n",
    "        name='distplot'+i\n",
    "        plt.savefig(name)                          #saves the plots in the current working directory"
   ]
  },
  {
   "cell_type": "code",
   "execution_count": null,
   "metadata": {},
   "outputs": [],
   "source": [
    "histogram(data)                                    #calling the function "
   ]
  },
  {
   "cell_type": "markdown",
   "metadata": {},
   "source": [
    "### Q2. Make an improvement on the function you have created in 1. Create a function named ‘Graphs’ which will take a dataset as input and return histograms and boxplots for all the numerical variables and bar plots for all categorical variables. "
   ]
  },
  {
   "cell_type": "code",
   "execution_count": null,
   "metadata": {},
   "outputs": [],
   "source": [
    "def graphs(data):\n",
    "    cat,num=cat_num(data)\n",
    "    for i in data.describe().columns:                      #takes all the numeric columns in the 'data'\n",
    "            plt.figure(figsize=(5,5))\n",
    "            sns.distplot(data[i],kde=False,hist_kws=dict(edgecolor=\"black\", linewidth=2))\n",
    "            name='distplot'+i\n",
    "            plt.savefig(name)\n",
    "    for i in num:                     #takes all the numeric columns in the 'data'.\n",
    "            plt.figure(figsize=(5,5))\n",
    "            sns.boxplot(data[i],color='pink',)\n",
    "            name='boxplot'+i \n",
    "            plt.savefig(name)\n",
    "    for i in cat:                   #takes all the categorical variables in the 'data'.\n",
    "            plt.figure(figsize=(30,5))\n",
    "            sns.countplot(data[i])\n",
    "            plt.xticks(rotation=45)\n",
    "            name='countplot'+i\n",
    "            plt.savefig(name) "
   ]
  },
  {
   "cell_type": "code",
   "execution_count": null,
   "metadata": {},
   "outputs": [],
   "source": [
    "graphs(data)"
   ]
  },
  {
   "cell_type": "markdown",
   "metadata": {},
   "source": [
    "### Q3. Often, we are not required to plot the graphs for all the variables in our dataset. Add an additional argument to the function in 2 named ‘var’. This will take a list containing the variable index and return the graphs for only those variables. By default, (i.e. if the list of variable index is not provided), then it must return the required graphs for all the variables in data."
   ]
  },
  {
   "cell_type": "code",
   "execution_count": null,
   "metadata": {},
   "outputs": [],
   "source": [
    "def graphs_mod(data,var=list(range(len(data.columns)))):          \n",
    "    data=data.iloc[:,var]                                 #additional argument to the original function \n",
    "    cat,num=cat_num(data)\n",
    "    for i in num:                   \n",
    "            plt.figure(figsize=(5,5))                     #specifying the size of the plot                  \n",
    "            \n",
    "            sns.distplot(data[i],kde=False,hist_kws=dict(edgecolor=\"black\", linewidth=2))    #plotting histogram \n",
    "            name='distplot'+i \n",
    "            plt.savefig(name) \n",
    "    for i in num:\n",
    "            plt.figure(figsize=(5,5))\n",
    "            sns.boxplot(data[i],color='pink')                   #plotting box plot for the numeric variables\n",
    "            name='boxplot'+i \n",
    "            plt.savefig(name) \n",
    "             \n",
    "    for i in cat:\n",
    "            plt.figure(figsize=(30,5))\n",
    "            sns.countplot(data[i])                          #plotting barchart for non-numeric variables\n",
    "            plt.xticks(rotation=45)                         #rotating the labels of x axis by degrees. \n",
    "            name='countplot'+i \n",
    "            plt.savefig(name)"
   ]
  },
  {
   "cell_type": "code",
   "execution_count": null,
   "metadata": {},
   "outputs": [],
   "source": [
    "diction={}\n",
    "keys=0\n",
    "for i in data.columns:\n",
    "    diction[keys]=i\n",
    "    keys=keys+1\n",
    "print('your data has following columns \\n',diction)\n",
    "var=[]\n",
    "while True:\n",
    "    col=int(input('please enter the corresponsing column number and -1 to exit'))\n",
    "    if col==-1:\n",
    "        break\n",
    "    elif col>len(data.columns):\n",
    "        print('please enter the column number within the given range')\n",
    "    else:\n",
    "        var.append(col)             #makes a list of columns, whose visualisation we need.\n",
    "    "
   ]
  },
  {
   "cell_type": "code",
   "execution_count": null,
   "metadata": {},
   "outputs": [],
   "source": [
    "graphs_mod(data,var)"
   ]
  },
  {
   "cell_type": "markdown",
   "metadata": {},
   "source": [
    "### Q4. Sometimes, we do not want to mess up our working directories with so many image files. Create an additional argument for the function \"dir\" (directory), such that the function exports all the files to that specified folder (which need not necessarily be your working directory)."
   ]
  },
  {
   "cell_type": "markdown",
   "metadata": {},
   "source": [
    "### Lets load the data"
   ]
  },
  {
   "cell_type": "code",
   "execution_count": null,
   "metadata": {},
   "outputs": [],
   "source": [
    "employee=pd.read_csv('salaries.csv')"
   ]
  },
  {
   "cell_type": "markdown",
   "metadata": {},
   "source": [
    "### How Data looks like"
   ]
  },
  {
   "cell_type": "code",
   "execution_count": null,
   "metadata": {},
   "outputs": [],
   "source": [
    "employee.shape                                   #Gives the shape of data. i.e No. of Rows and Columns in the dataset"
   ]
  },
  {
   "cell_type": "code",
   "execution_count": null,
   "metadata": {},
   "outputs": [],
   "source": [
    "employee.head()                    #Unless specified, gives top 5 records of the dataset."
   ]
  },
  {
   "cell_type": "markdown",
   "metadata": {},
   "source": [
    "### Checking for Null Values"
   ]
  },
  {
   "cell_type": "code",
   "execution_count": null,
   "metadata": {},
   "outputs": [],
   "source": [
    "employee.isnull().sum()                            #Gives the number of null values in the individual attributes of the dataset."
   ]
  },
  {
   "cell_type": "code",
   "execution_count": null,
   "metadata": {},
   "outputs": [],
   "source": [
    "def cat_num(employee):                                # Defining the function for Categorical and Numerical variable.\n",
    "    num=[]\n",
    "    categ=[]\n",
    "    for i in employee.columns:\n",
    "        if (employee[i].dtype=='object') or (employee[i].nunique() <=5):\n",
    "             categ.append(i)\n",
    "        else:\n",
    "            num.append(i)\n",
    "    return (categ,num)"
   ]
  },
  {
   "cell_type": "code",
   "execution_count": null,
   "metadata": {},
   "outputs": [],
   "source": [
    "def graphs_mod_path(employee,var=list(range(len(employee.columns))),dir=os.getcwd()):\n",
    "    employee=employee.iloc[:,var]\n",
    "    cat,num=cat_num(employee)\n",
    "    for i in num:\n",
    "            plt.figure(figsize=(5,5))\n",
    "            sns.distplot(employee[i],kde=False,hist_kws=dict(edgecolor=\"black\", linewidth=2))\n",
    "            name='/distplot'+i\n",
    "            plt.savefig(dir+name)\n",
    "                         \n",
    "    for i in num:\n",
    "            plt.figure(figsize=(5,5))\n",
    "            sns.boxplot(employee[i],color='pink')\n",
    "            name='/boxplot'+i\n",
    "            plt.savefig(dir+name)\n",
    "    \n",
    "                         \n",
    "    cat=employee.dtypes[employee.dtypes=='object'].index\n",
    "    for i in cat:\n",
    "            plt.figure(figsize=(30,5))\n",
    "            sns.countplot(employee[i])\n",
    "            plt.xticks(rotation=45)\n",
    "            name='/barplot'+i\n",
    "            plt.savefig(dir+name)"
   ]
  },
  {
   "cell_type": "code",
   "execution_count": null,
   "metadata": {},
   "outputs": [],
   "source": [
    "diction={}\n",
    "dir='C:/Users/vivji/Desktop/Assignment Output'\n",
    "keys=0\n",
    "for i in employee.columns:\n",
    "    diction[keys]=i\n",
    "    keys=keys+1\n",
    "print('Your data has following columns \\n',diction)\n",
    "var=[]\n",
    "while True:\n",
    "    col=int(input('Please enter the corresponding column number and -1 to exit.'))\n",
    "    if col==-1:\n",
    "        break\n",
    "    elif col>len(employee.columns):\n",
    "        print('Please enter the column number within the given range.')\n",
    "    else:\n",
    "        var.append(col)\n",
    "graphs_mod_path(employee,var,dir)   "
   ]
  },
  {
   "cell_type": "markdown",
   "metadata": {},
   "source": [
    "### Q6. New Improvements: Design a new function which you feel can help you a lot in your EDA process.\n"
   ]
  },
  {
   "cell_type": "markdown",
   "metadata": {},
   "source": [
    "* At times our data might have quite a few null values, which affects the output of the analysis. In that case we need to do Missing Values Imputation and treat the data in order to minimise the effect of missing values.\n",
    "* Here, we have tried to create  a function which will not only find those missing values in our dataset but also treat those missing values.\n",
    "* Now, there are many ways for missing values treatmeant depending on the data structure. However, in most of the cases it is agreed that the missing values be replaced with mean of that variable in case of Numerical Variable and with mode of the variable in case of Categorical variable.\n",
    "\n",
    "* Further, our data may have outliers. So, we need to analyse whether these outliers are enough to affect our output/ making the distribution skewed. So we need to treat such outliers using different techniques like **WINSORISATION - This technique replaces the outliers with the upperbound values(percentiles) and lower bound values(percentiles)**."
   ]
  },
  {
   "cell_type": "code",
   "execution_count": null,
   "metadata": {},
   "outputs": [],
   "source": [
    "def imputation(employee):\n",
    "    cat,num=cat_num(employee)\n",
    "    for i in num:  \n",
    "        print('Number of null values in the varaible',i,employee[i].isnull().sum())\n",
    "        print('Replacing these null values with mean of the variable.')\n",
    "        employee[i].fillna(employee[i].mean(),inplace=True)\n",
    "        \n",
    "        \n",
    "    for i in cat:\n",
    "        print('Number of NULL values in the varaible',i,employee[i].isnull().sum())\n",
    "        print('Replacing these NULL values with mode of the variable.')\n",
    "        employee[i].fillna(employee[i].mode(),inplace=True)\n",
    "        \n",
    "def outlier_count(employee):\n",
    "    cat,num=cat_num(employee)\n",
    "    for i in num:\n",
    "        Q1 = employee[i].quantile(0.25)\n",
    "        Q3 = employee[i].quantile(0.75)\n",
    "        IQR = Q3 - Q1\n",
    "        print(i,employee[employee[i]<(Q1-1.5*IQR)][i].count()+employee[employee[i]>(Q3+1.5*IQR)][i].count())\n",
    "        "
   ]
  },
  {
   "cell_type": "code",
   "execution_count": null,
   "metadata": {},
   "outputs": [],
   "source": [
    "imputation(employee)                            #calling the function"
   ]
  },
  {
   "cell_type": "code",
   "execution_count": null,
   "metadata": {},
   "outputs": [],
   "source": [
    "def outlier_count(employee):\n",
    "    for i in employee.describe().columns:\n",
    "        Q1 = employee[i].quantile(0.25)\n",
    "        Q3 = employee[i].quantile(0.75)\n",
    "        IQR = Q3 - Q1\n",
    "        print(i,employee[employee[i]<(Q1-1.5*IQR)][i].count()+employee[employee[i]>(Q3+1.5*IQR)][i].count())\n",
    "        "
   ]
  },
  {
   "cell_type": "code",
   "execution_count": null,
   "metadata": {},
   "outputs": [],
   "source": [
    "outlier_count(employee)                         #calling the function"
   ]
  },
  {
   "cell_type": "markdown",
   "metadata": {},
   "source": [
    "# THE END"
   ]
  }
 ],
 "metadata": {
  "kernelspec": {
   "display_name": "Python 3",
   "language": "python",
   "name": "python3"
  },
  "language_info": {
   "codemirror_mode": {
    "name": "ipython",
    "version": 3
   },
   "file_extension": ".py",
   "mimetype": "text/x-python",
   "name": "python",
   "nbconvert_exporter": "python",
   "pygments_lexer": "ipython3",
   "version": "3.7.6"
  }
 },
 "nbformat": 4,
 "nbformat_minor": 4
}
